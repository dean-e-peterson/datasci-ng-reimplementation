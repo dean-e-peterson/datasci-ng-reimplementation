{
 "cells": [
  {
   "cell_type": "markdown",
   "metadata": {},
   "source": [
    "# Andrew Ng Coursera Machine Learning Course - Ex 2\n",
    "**Dean's Reimplementation Attempt**\n",
    "\n",
    "*8/19/2017*"
   ]
  },
  {
   "cell_type": "code",
   "execution_count": 1,
   "metadata": {
    "collapsed": true
   },
   "outputs": [],
   "source": [
    "import numpy as np\n",
    "import matplotlib.pyplot as plt\n",
    "%matplotlib inline"
   ]
  },
  {
   "cell_type": "markdown",
   "metadata": {},
   "source": [
    "## 1. Logistic Regression\n",
    "**Note:** This is a classification algorithm, despite the term \"regression\" in the name.  Classification means outputs $y$ take on discrete values, for example $y \\in \\{0,1\\}$.  The output is  also known as a *label*."
   ]
  },
  {
   "cell_type": "markdown",
   "metadata": {},
   "source": [
    "*Sigmoid function*, aka *logistic function*\n",
    "\n",
    "$$ g(z) = \\frac{1}{1 + e^{-z}}$$"
   ]
  },
  {
   "cell_type": "code",
   "execution_count": 2,
   "metadata": {},
   "outputs": [
    {
     "data": {
      "text/plain": [
       "[<matplotlib.lines.Line2D at 0x2106dc5e470>]"
      ]
     },
     "execution_count": 2,
     "metadata": {},
     "output_type": "execute_result"
    },
    {
     "data": {
      "image/png": "[encoded data removed]",
      "text/plain": [
       "<matplotlib.figure.Figure at 0x2106d890320>"
      ]
     },
     "metadata": {},
     "output_type": "display_data"
    }
   ],
   "source": [
    "z = np.arange(-4, 4.01, .1)\n",
    "g = 1 / (1 + np.exp(-z))\n",
    "plt.figure(figsize=(10, 1.5))\n",
    "plt.plot(z, g)"
   ]
  },
  {
   "cell_type": "markdown",
   "metadata": {},
   "source": [
    "For the hypothesis, use:\n",
    "\n",
    "$$z = \\theta^Tx$$\n",
    "\n",
    "$$h_\\theta(x) = g(z) = g(\\theta^Tx) = \\frac{1}{1 + e^{-\\theta^Tx}} $$\n",
    "\n",
    "... making $h_\\theta(x)$ the probability that the output is 1, not 0.\n",
    "\n",
    "$$h_\\theta(x) = P(y=1 \\: | \\: x;\\theta) $$"
   ]
  },
  {
   "cell_type": "markdown",
   "metadata": {},
   "source": [
    "For the decision boundary, if $h_\\theta(x) \\ge 0.5$, predict $y = 1$.  This happens when $z \\ge 0$."
   ]
  },
  {
   "cell_type": "markdown",
   "metadata": {},
   "source": [
    "For the cost function, use:\n",
    "\n",
    "$$\\text{Cost}(h_\\theta(x), y) = - \\log_e(h_\\theta(x)) \\qquad\\qquad \\text{if} \\, y=1 $$\n",
    "$$\\text{Cost}(h_\\theta(x), y) = - \\log_e(1 - h_\\theta(x)) \\qquad \\text{if} \\, y=0 $$\n",
    "$$J(\\theta) = \\frac{1}{m} \\sum_{i=1}^m \\text{Cost}\\left(h_\\theta(x^{(i)}, y^{(i)}\\right) $$\n",
    "\n",
    "...so...\n",
    "\n",
    "$$J(\\theta) = -\\frac{1}{m} \\sum_{i=1}^m \\left[ \n",
    "y^{(i)} \\log(h_\\theta(x^{(i)}))\n",
    "+ (1-y^{(i)}) \\log(1 - h_\\theta(x^{(i)}))\n",
    "\\right] $$"
   ]
  },
  {
   "cell_type": "markdown",
   "metadata": {},
   "source": [
    "Vectorized, this is:\n",
    "$$J(\\theta) = \\frac{1}{m} \\left( -y^T\\log(h) - (1-y)^T\\log(1-h) \\right) $$"
   ]
  },
  {
   "cell_type": "markdown",
   "metadata": {},
   "source": [
    "The gradient is:\n",
    "$$\\frac{\\partial}{\\partial\\theta_j} = \\frac{1}{m} \\sum_{i=1}^m\n",
    "  \\left( h_\\theta(x^{(i)}) - y^{(i)} \\right) x_j^{(i)}$$\n",
    "\n",
    "So the gradient descent rule is:\n",
    "\n",
    "$$\\theta_j := \\theta_j - \\frac{\\alpha}{m} \\sum_{i=1}^m\n",
    "  \\left( h_\\theta(x^{(i)}) - y^{(i)} \\right) x_j^{(i)}$$\n",
    "...which *looks* the same as for linear regression, but remember that $h_\\theta(x^{(i)})$ is the sigmoid function this time."
   ]
  },
  {
   "cell_type": "markdown",
   "metadata": {
    "collapsed": true
   },
   "source": [
    "## 1.1 Visualizing the data"
   ]
  },
  {
   "cell_type": "code",
   "execution_count": 78,
   "metadata": {},
   "outputs": [
    {
     "name": "stdout",
     "output_type": "stream",
     "text": [
      "(100, 3)\n",
      "(100, 2)\n",
      "(100, 1)\n",
      "[[ 34.62365962  78.02469282   0.        ]\n",
      " [ 30.28671077  43.89499752   0.        ]\n",
      " [ 35.84740877  72.90219803   0.        ]\n",
      " [ 60.18259939  86.3085521    1.        ]\n",
      " [ 79.03273605  75.34437644   1.        ]]\n",
      "[[ 34.62365962  78.02469282]\n",
      " [ 30.28671077  43.89499752]\n",
      " [ 35.84740877  72.90219803]\n",
      " [ 60.18259939  86.3085521 ]\n",
      " [ 79.03273605  75.34437644]]\n",
      "[[ 0.]\n",
      " [ 0.]\n",
      " [ 0.]\n",
      " [ 1.]\n",
      " [ 1.]]\n"
     ]
    }
   ],
   "source": [
    "data = np.loadtxt('ex2/ex2data1.txt', delimiter=',')\n",
    "X = data[:, 0:2]\n",
    "y = data[:, 2:3]\n",
    "print(data.shape)\n",
    "print(X.shape)\n",
    "print(y.shape)\n",
    "print(data[:5])\n",
    "print(X[:5])\n",
    "print(y[:5])"
   ]
  },
  {
   "cell_type": "code",
   "execution_count": 79,
   "metadata": {},
   "outputs": [],
   "source": [
    "pos = np.where(y == 1)\n",
    "neg = np.where(y == 0)"
   ]
  },
  {
   "cell_type": "code",
   "execution_count": 80,
   "metadata": {},
   "outputs": [
    {
     "data": {
      "text/plain": [
       "<matplotlib.text.Text at 0x2107026afd0>"
      ]
     },
     "execution_count": 80,
     "metadata": {},
     "output_type": "execute_result"
    },
    {
     "data": {
      "image/png": "[encoded data removed]",
      "text/plain": [
       "<matplotlib.figure.Figure at 0x2107025b978>"
      ]
     },
     "metadata": {},
     "output_type": "display_data"
    }
   ],
   "source": [
    "plt.plot(X[pos, 0], X[pos, 1], 'k+', label='Admitted')\n",
    "plt.plot(X[neg, 0], X[neg, 1], 'yo', label='Not admitted')\n",
    "#plt.legend() # This was putting one legend entry for each point.\n",
    "plt.xlabel('Exam 1 score')\n",
    "plt.ylabel('Exam 2 score')"
   ]
  },
  {
   "cell_type": "markdown",
   "metadata": {},
   "source": [
    "# 1.2. Implementation"
   ]
  },
  {
   "cell_type": "code",
   "execution_count": 81,
   "metadata": {},
   "outputs": [
    {
     "name": "stdout",
     "output_type": "stream",
     "text": [
      "[[  1.          34.62365962  78.02469282]\n",
      " [  1.          30.28671077  43.89499752]\n",
      " [  1.          35.84740877  72.90219803]\n",
      " [  1.          60.18259939  86.3085521 ]\n",
      " [  1.          79.03273605  75.34437644]]\n"
     ]
    }
   ],
   "source": [
    "# Add the intercept/bias term of all 1's to X.\n",
    "m = X.shape[0]\n",
    "ones = np.ones((m, 1))\n",
    "X = np.hstack((ones, X))\n",
    "print(X[:5])"
   ]
  },
  {
   "cell_type": "markdown",
   "metadata": {},
   "source": [
    "## 1.2.1. Warmup exercise: sigmoid function\n",
    "*Sigmoid function*, aka *logistic function*\n",
    "\n",
    "$$ g(z) = \\frac{1}{1 + e^{-z}}$$"
   ]
  },
  {
   "cell_type": "code",
   "execution_count": 83,
   "metadata": {
    "collapsed": true
   },
   "outputs": [],
   "source": [
    "# Student implements...\n",
    "def sigmoid(X):\n",
    "    g = 1 / (1 + np.exp(-X))\n",
    "    return g"
   ]
  },
  {
   "cell_type": "markdown",
   "metadata": {},
   "source": [
    "## 1.2.2. Cost function and gradient\n",
    "\n",
    "$$J(\\theta) = -\\frac{1}{m} \\sum_{i=1}^m \\left[ \n",
    "y^{(i)} \\log(h_\\theta(x^{(i)}))\n",
    "+ (1-y^{(i)}) \\log(1 - h_\\theta(x^{(i)}))\n",
    "\\right] $$\n",
    "\n",
    "$$\\frac{\\partial}{\\partial\\theta_j} = \\frac{1}{m} \\sum_{i=1}^m\n",
    "  \\left( h_\\theta(x^{(i)}) - y^{(i)} \\right) x_j^{(i)}$$"
   ]
  },
  {
   "cell_type": "code",
   "execution_count": 86,
   "metadata": {},
   "outputs": [],
   "source": [
    "initial_theta = np.zeros((X.shape[1], 1))"
   ]
  },
  {
   "cell_type": "code",
   "execution_count": 88,
   "metadata": {
    "collapsed": true
   },
   "outputs": [],
   "source": [
    "# Student implements...\n",
    "def costFunction(theta, X, y):\n",
    "    m = X.shape[0]\n",
    "    h = sigmoid(X @ theta) # Not theta.T @ X because I wanted samples in rows?\n",
    "\n",
    "    Jsumofones = y.T @ np.log(h) \n",
    "    Jsumofzeros = (1-y).T @ np.log(1-h)\n",
    "    J = (-1/m) * (Jsumofones + Jsumofzeros)\n",
    "    \n",
    "    grad = (1/m) * X.T @ (h - y)\n",
    "\n",
    "    return J, grad"
   ]
  },
  {
   "cell_type": "code",
   "execution_count": 89,
   "metadata": {},
   "outputs": [],
   "source": [
    "cost, grad = costFunction(initial_theta, X, y)"
   ]
  },
  {
   "cell_type": "code",
   "execution_count": 96,
   "metadata": {},
   "outputs": [
    {
     "name": "stdout",
     "output_type": "stream",
     "text": [
      "[[ 0.69314718]]\n",
      "[[ -0.1       ]\n",
      " [-12.00921659]\n",
      " [-11.26284221]]\n"
     ]
    }
   ],
   "source": [
    "# Expected 0.693, and [-0.1, -12.0092, -11.2628]\n",
    "print(cost) # Should this be coming out as a scalar, not a 2-d array?\n",
    "print(grad) # Should this be coming out as a 1-d array, not a 2-d array?"
   ]
  },
  {
   "cell_type": "code",
   "execution_count": 105,
   "metadata": {},
   "outputs": [
    {
     "name": "stdout",
     "output_type": "stream",
     "text": [
      "(3, 1)\n"
     ]
    }
   ],
   "source": [
    "# Extra parentheses and commas make the following a column vector.\n",
    "test_theta = np.array(((-24,), (0.2,), (0.2,)))\n",
    "print(test_theta.shape)\n",
    "cost, grad = costFunction(test_theta, X, y)"
   ]
  },
  {
   "cell_type": "code",
   "execution_count": 106,
   "metadata": {},
   "outputs": [
    {
     "name": "stdout",
     "output_type": "stream",
     "text": [
      "[[ 0.21833019]]\n",
      "[[ 0.04290299]\n",
      " [ 2.56623412]\n",
      " [ 2.64679737]]\n"
     ]
    }
   ],
   "source": [
    "# Expected cost (approx): 0.218\n",
    "# Expected gradients (approx):  0.043, 2.566, 2.647');\n",
    "print(cost) # Should this be coming out as a scalar, not a 2-d array?\n",
    "print(grad) # Should this be coming out as a 1-d array, not a 2-d array?"
   ]
  },
  {
   "cell_type": "code",
   "execution_count": null,
   "metadata": {
    "collapsed": true
   },
   "outputs": [],
   "source": []
  },
  {
   "cell_type": "code",
   "execution_count": null,
   "metadata": {
    "collapsed": true
   },
   "outputs": [],
   "source": []
  },
  {
   "cell_type": "code",
   "execution_count": null,
   "metadata": {
    "collapsed": true
   },
   "outputs": [],
   "source": []
  }
 ],
 "metadata": {
  "kernelspec": {
   "display_name": "Python 3",
   "language": "python",
   "name": "python3"
  },
  "language_info": {
   "codemirror_mode": {
    "name": "ipython",
    "version": 3
   },
   "file_extension": ".py",
   "mimetype": "text/x-python",
   "name": "python",
   "nbconvert_exporter": "python",
   "pygments_lexer": "ipython3",
   "version": "3.5.3"
  }
 },
 "nbformat": 4,
 "nbformat_minor": 2
}
