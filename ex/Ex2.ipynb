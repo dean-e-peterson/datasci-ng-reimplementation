{
 "cells": [
  {
   "cell_type": "markdown",
   "metadata": {},
   "source": [
    "# Andrew Ng Coursera Machine Learning Course - Ex 2\n",
    "**Dean's Reimplementation Attempt**\n",
    "\n",
    "*9/26/2017*"
   ]
  },
  {
   "cell_type": "markdown",
   "metadata": {},
   "source": [
    "Note: See [here](https://docs.scipy.org/doc/scipy/reference/api.html#guidelines-for-importing-functions-from-scipy) for recommendations on how to import `scipy` modules."
   ]
  },
  {
   "cell_type": "code",
   "execution_count": 1,
   "metadata": {
    "collapsed": true
   },
   "outputs": [],
   "source": [
    "import numpy as np\n",
    "import matplotlib.pyplot as plt\n",
    "from scipy import optimize\n",
    "# Note: If comment out %matplotlib inline, can still call plt.show()\n",
    "%matplotlib inline"
   ]
  },
  {
   "cell_type": "markdown",
   "metadata": {},
   "source": [
    "## 1. Logistic Regression\n",
    "**Note:** This is a classification algorithm, despite the term \"regression\" in the name.  Classification means outputs $y$ take on discrete values, for example $y \\in \\{0,1\\}$.  The output is  also known as a *label*."
   ]
  },
  {
   "cell_type": "markdown",
   "metadata": {},
   "source": [
    "*Sigmoid function*, aka *logistic function*\n",
    "\n",
    "$$ g(z) = \\frac{1}{1 + e^{-z}}$$"
   ]
  },
  {
   "cell_type": "code",
   "execution_count": 2,
   "metadata": {},
   "outputs": [
    {
     "data": {
      "text/plain": [
       "[<matplotlib.lines.Line2D at 0x1a7ea149b00>]"
      ]
     },
     "execution_count": 2,
     "metadata": {},
     "output_type": "execute_result"
    },
    {
     "data": {
      "image/png": "[encoded data removed]",
      "text/plain": [
       "<matplotlib.figure.Figure at 0x1a7ea068940>"
      ]
     },
     "metadata": {},
     "output_type": "display_data"
    }
   ],
   "source": [
    "z = np.linspace(-4, 4, 81)\n",
    "g = 1 / (1 + np.exp(-z))\n",
    "plt.figure(figsize=(10, 1.5))\n",
    "plt.plot(z, g)"
   ]
  },
  {
   "cell_type": "markdown",
   "metadata": {},
   "source": [
    "For the hypothesis, use:\n",
    "\n",
    "$$z = \\theta^Tx$$\n",
    "\n",
    "$$h_\\theta(x) = g(z) = g(\\theta^Tx) = \\frac{1}{1 + e^{-\\theta^Tx}} $$\n",
    "\n",
    "... making $h_\\theta(x)$ the probability that the output is 1, not 0.\n",
    "\n",
    "$$h_\\theta(x) = P(y=1 \\: | \\: x;\\theta) $$"
   ]
  },
  {
   "cell_type": "markdown",
   "metadata": {},
   "source": [
    "For the decision boundary, if $h_\\theta(x) \\ge 0.5$, predict $y = 1$.  This happens when $z \\ge 0$."
   ]
  },
  {
   "cell_type": "markdown",
   "metadata": {},
   "source": [
    "For the cost function, use:\n",
    "\n",
    "$$\\text{Cost}(h_\\theta(x), y) = - \\log_e(h_\\theta(x)) \\qquad\\qquad \\text{if} \\, y=1 $$\n",
    "$$\\text{Cost}(h_\\theta(x), y) = - \\log_e(1 - h_\\theta(x)) \\qquad \\text{if} \\, y=0 $$\n",
    "$$J(\\theta) = \\frac{1}{m} \\sum_{i=1}^m \\text{Cost}\\left(h_\\theta(x^{(i)}, y^{(i)}\\right) $$\n",
    "\n",
    "...so...\n",
    "\n",
    "$$J(\\theta) = -\\frac{1}{m} \\sum_{i=1}^m \\left[ \n",
    "y^{(i)} \\log(h_\\theta(x^{(i)}))\n",
    "+ (1-y^{(i)}) \\log(1 - h_\\theta(x^{(i)}))\n",
    "\\right] $$"
   ]
  },
  {
   "cell_type": "markdown",
   "metadata": {},
   "source": [
    "Vectorized, this is:\n",
    "$$J(\\theta) = \\frac{1}{m} \\left( -y^\\top\\log(h) - (1-y)^\\top\\log(1-h) \\right) $$"
   ]
  },
  {
   "cell_type": "markdown",
   "metadata": {},
   "source": [
    "The gradient is:\n",
    "$$\\frac{\\partial}{\\partial\\theta_j} = \\frac{1}{m} \\sum_{i=1}^m\n",
    "  \\left( h_\\theta(x^{(i)}) - y^{(i)} \\right) x_j^{(i)}$$\n",
    "\n",
    "So the gradient descent rule is:\n",
    "\n",
    "$$\\theta_j := \\theta_j - \\frac{\\alpha}{m} \\sum_{i=1}^m\n",
    "  \\left( h_\\theta(x^{(i)}) - y^{(i)} \\right) x_j^{(i)}$$\n",
    "...which *looks* the same as for *linear* regression, but remember that $h_\\theta(x^{(i)})$ is the sigmoid function this time."
   ]
  },
  {
   "cell_type": "markdown",
   "metadata": {
    "collapsed": true
   },
   "source": [
    "## 1.1 Visualizing the data\n",
    "\n",
    "See [numpy.matmul() documentation](https://docs.scipy.org/doc/numpy/reference/generated/numpy.matmul.html) for how a 1-D numpy array is treated by matrix multiplication.  \n",
    "\n",
    "Basically, given vector v and matrix M, in **`v@M`** the v is treated as a row vector, but in **`M@v`** the v is treated as a column vector."
   ]
  },
  {
   "cell_type": "code",
   "execution_count": 3,
   "metadata": {},
   "outputs": [
    {
     "name": "stdout",
     "output_type": "stream",
     "text": [
      "(100, 3)\n",
      "(100, 2)\n",
      "(100,)\n",
      "[[ 34.62365962  78.02469282   0.        ]\n",
      " [ 30.28671077  43.89499752   0.        ]\n",
      " [ 35.84740877  72.90219803   0.        ]\n",
      " [ 60.18259939  86.3085521    1.        ]\n",
      " [ 79.03273605  75.34437644   1.        ]]\n",
      "[[ 34.62365962  78.02469282]\n",
      " [ 30.28671077  43.89499752]\n",
      " [ 35.84740877  72.90219803]\n",
      " [ 60.18259939  86.3085521 ]\n",
      " [ 79.03273605  75.34437644]]\n",
      "[ 0.  0.  0.  1.  1.]\n"
     ]
    }
   ],
   "source": [
    "data = np.loadtxt('ex2/ex2data1.txt', delimiter=',')\n",
    "X = data[:, 0:2]\n",
    "y = data[:, 2]    # y = data[:, 2:3] for 1-column 2-d array.\n",
    "print(data.shape)\n",
    "print(X.shape)\n",
    "print(y.shape)\n",
    "print(data[:5])\n",
    "print(X[:5])\n",
    "print(y[:5])"
   ]
  },
  {
   "cell_type": "code",
   "execution_count": 4,
   "metadata": {
    "collapsed": true
   },
   "outputs": [],
   "source": [
    "def plotData(X, y):\n",
    "    pos = np.where(y == 1)\n",
    "    neg = np.where(y == 0)\n",
    "\n",
    "    # Save lists of \"lines\" created (l1...) for the legend below.\n",
    "    l1 = plt.plot(X[pos, 0], X[pos, 1], 'k+', label='Admitted')\n",
    "    l2 = plt.plot(X[neg, 0], X[neg, 1], 'yo', label='Not admitted')\n",
    "\n",
    "    # plt.legend() puts one legend entry for each data point,\n",
    "    # so pick just the first point from each class and specify those.\n",
    "    plt.legend((l1[0], l2[0]), (l1[0].get_label(), l2[0].get_label()))\n",
    "\n",
    "    plt.xlabel('Exam 1 score')\n",
    "    plt.ylabel('Exam 2 score')\n",
    "    \n",
    "    # plt.show() # Commented in case want to add more before showing."
   ]
  },
  {
   "cell_type": "code",
   "execution_count": 5,
   "metadata": {},
   "outputs": [
    {
     "data": {
      "image/png": "[encoded data removed]",
      "text/plain": [
       "<matplotlib.figure.Figure at 0x1a7ea0c2cf8>"
      ]
     },
     "metadata": {},
     "output_type": "display_data"
    }
   ],
   "source": [
    "plotData(X, y)\n",
    "# with %matplotlib inline, shows automatically at end of cell."
   ]
  },
  {
   "cell_type": "markdown",
   "metadata": {},
   "source": [
    "# 1.2. Implementation"
   ]
  },
  {
   "cell_type": "code",
   "execution_count": 6,
   "metadata": {},
   "outputs": [
    {
     "name": "stdout",
     "output_type": "stream",
     "text": [
      "[[  1.          34.62365962  78.02469282]\n",
      " [  1.          30.28671077  43.89499752]\n",
      " [  1.          35.84740877  72.90219803]\n",
      " [  1.          60.18259939  86.3085521 ]\n",
      " [  1.          79.03273605  75.34437644]]\n"
     ]
    }
   ],
   "source": [
    "# Add the intercept/bias term of all 1's to X.\n",
    "m = X.shape[0]\n",
    "ones = np.ones((m, 1))\n",
    "X = np.hstack((ones, X))\n",
    "print(X[:5])"
   ]
  },
  {
   "cell_type": "markdown",
   "metadata": {},
   "source": [
    "## 1.2.1. Warmup exercise: sigmoid function\n",
    "*Sigmoid function*, aka *logistic function*\n",
    "\n",
    "$$ g(z) = \\frac{1}{1 + e^{-z}}$$"
   ]
  },
  {
   "cell_type": "code",
   "execution_count": 7,
   "metadata": {
    "collapsed": true
   },
   "outputs": [],
   "source": [
    "# Student implements...\n",
    "def sigmoid(X):\n",
    "    g = 1 / (1 + np.exp(-X))\n",
    "    return g"
   ]
  },
  {
   "cell_type": "markdown",
   "metadata": {},
   "source": [
    "## 1.2.2. Cost function and gradient\n",
    "\n",
    "$$J(\\theta) = -\\frac{1}{m} \\sum_{i=1}^m \\left[ \n",
    "y^{(i)} \\log(h_\\theta(x^{(i)}))\n",
    "+ (1-y^{(i)}) \\log(1 - h_\\theta(x^{(i)}))\n",
    "\\right] $$\n",
    "\n",
    "$$\\frac{\\partial}{\\partial\\theta_j} = \\frac{1}{m} \\sum_{i=1}^m\n",
    "  \\left( h_\\theta(x^{(i)}) - y^{(i)} \\right) x_j^{(i)}$$"
   ]
  },
  {
   "cell_type": "code",
   "execution_count": 8,
   "metadata": {},
   "outputs": [
    {
     "data": {
      "text/plain": [
       "array([ 0.,  0.,  0.])"
      ]
     },
     "execution_count": 8,
     "metadata": {},
     "output_type": "execute_result"
    }
   ],
   "source": [
    "initial_theta = np.zeros(X.shape[1]) # np.zeros((X.shape[1], 1)), for n x 1 2d array\n",
    "initial_theta"
   ]
  },
  {
   "cell_type": "code",
   "execution_count": 9,
   "metadata": {
    "collapsed": true
   },
   "outputs": [],
   "source": [
    "# Student implements...\n",
    "def costFunction(theta, X, y):\n",
    "    m = X.shape[0]\n",
    "    h = sigmoid(X @ theta) # Not theta @ X.T because I wanted samples in rows.\n",
    "\n",
    "    Jsumofones = y.T @ np.log(h) \n",
    "    Jsumofzeros = (1-y).T @ np.log(1-h)\n",
    "    J = (-1/m) * (Jsumofones + Jsumofzeros)\n",
    "    \n",
    "    grad = (1/m) * X.T @ (h - y)\n",
    "\n",
    "    return J, grad"
   ]
  },
  {
   "cell_type": "code",
   "execution_count": 10,
   "metadata": {
    "collapsed": true
   },
   "outputs": [],
   "source": [
    "cost, grad = costFunction(initial_theta, X, y)"
   ]
  },
  {
   "cell_type": "code",
   "execution_count": 11,
   "metadata": {},
   "outputs": [
    {
     "name": "stdout",
     "output_type": "stream",
     "text": [
      "0.69314718056\n",
      "[ -0.1        -12.00921659 -11.26284221]\n"
     ]
    }
   ],
   "source": [
    "# Expected 0.693, and [-0.1, -12.0092, -11.2628]\n",
    "print(cost) # 1-d vector input made this a scalar, not a 2-d array.\n",
    "print(grad) # 1-d vector input etc made this a 1-d array, not a 2-d array."
   ]
  },
  {
   "cell_type": "code",
   "execution_count": 12,
   "metadata": {},
   "outputs": [
    {
     "name": "stdout",
     "output_type": "stream",
     "text": [
      "(3,)\n"
     ]
    }
   ],
   "source": [
    "# Extra parentheses and commas would make the following a column vector.\n",
    "#test_theta = np.array(((-24,), (0.2,), (0.2,)))\n",
    "test_theta = np.array((-24, 0.2, 0.2))\n",
    "print(test_theta.shape)\n",
    "cost, grad = costFunction(test_theta, X, y)"
   ]
  },
  {
   "cell_type": "code",
   "execution_count": 13,
   "metadata": {},
   "outputs": [
    {
     "name": "stdout",
     "output_type": "stream",
     "text": [
      "0.218330193827\n",
      "[ 0.04290299  2.56623412  2.64679737]\n"
     ]
    }
   ],
   "source": [
    "# Expected cost (approx): 0.218\n",
    "# Expected gradients (approx):  0.043, 2.566, 2.647');\n",
    "print(cost) # Should this be coming out as a scalar, not a 2-d array?\n",
    "print(grad) # Should this be coming out as a 1-d array, not a 2-d array?"
   ]
  },
  {
   "cell_type": "markdown",
   "metadata": {},
   "source": [
    "### 1.2.3. Learning parameters using `scipy.optimize.minimize`"
   ]
  },
  {
   "cell_type": "code",
   "execution_count": 14,
   "metadata": {
    "collapsed": true
   },
   "outputs": [],
   "source": [
    "initial_theta = np.zeros([X.shape[1]])\n",
    "initial_theta = test_theta"
   ]
  },
  {
   "cell_type": "markdown",
   "metadata": {
    "collapsed": true
   },
   "source": [
    "`scipy.optimize.minimize()` calls back to the objective function with only the parameter vector being optimized (in our case, `theta`).  So we need to make a partial function that only accepts `theta` and already has `X` and `y` \"baked in\".  We can do this as separate function definition or as a lambda.  We choose a lambda like Andrew Ng's original does in Octave/Matlab with the `@(t) (costFunction(t, X, y))` syntax.\n",
    "\n",
    "Note: The word \"partial\" here has to do with partial as a functional programming concept, not partial derivatives.\n",
    "\n",
    "Note2: It would have been nice to do this with the `partial()` function in the `functools` module, but I don't think the original order of parameters allows that."
   ]
  },
  {
   "cell_type": "code",
   "execution_count": 15,
   "metadata": {},
   "outputs": [
    {
     "name": "stdout",
     "output_type": "stream",
     "text": [
      "Optimization terminated successfully.\n",
      "         Current function value: 0.203498\n",
      "         Iterations: 16\n",
      "         Function evaluations: 22\n",
      "         Gradient evaluations: 22\n",
      "Wall time: 2 ms\n"
     ]
    }
   ],
   "source": [
    "%%time\n",
    "# Note: Was using fminunc() in MatLab\n",
    "result = optimize.minimize(\n",
    "    lambda t: costFunction(t, X, y), \n",
    "    initial_theta, \n",
    "    jac=True, \n",
    "    options={'maxiter':100, 'disp':True}\n",
    "    )"
   ]
  },
  {
   "cell_type": "code",
   "execution_count": 16,
   "metadata": {
    "collapsed": true
   },
   "outputs": [],
   "source": [
    "# The non-lambda way to make a cost function to pass to optimize.minimize()\n",
    "#def costFun(theta):\n",
    "#    J, grad = costFunction(theta, X, y)\n",
    "#    return J, grad\n",
    "#    # return J[0], grad[:,0] # This was if using 2-d theta input."
   ]
  },
  {
   "cell_type": "code",
   "execution_count": 17,
   "metadata": {},
   "outputs": [
    {
     "data": {
      "text/plain": [
       "      fun: 0.2034977015894421\n",
       " hess_inv: array([[  3.33350099e+03,  -2.66055767e+01,  -2.69764676e+01],\n",
       "       [ -2.66055767e+01,   2.27032698e-01,   2.02191103e-01],\n",
       "       [ -2.69764676e+01,   2.02191103e-01,   2.33923485e-01]])\n",
       "      jac: array([ -1.29877864e-08,  -9.15436295e-07,  -7.66847116e-07])\n",
       "  message: 'Optimization terminated successfully.'\n",
       "     nfev: 22\n",
       "      nit: 16\n",
       "     njev: 22\n",
       "   status: 0\n",
       "  success: True\n",
       "        x: array([-25.16133175,   0.2062317 ,   0.20147159])"
      ]
     },
     "execution_count": 17,
     "metadata": {},
     "output_type": "execute_result"
    }
   ],
   "source": [
    "result"
   ]
  },
  {
   "cell_type": "code",
   "execution_count": 18,
   "metadata": {},
   "outputs": [
    {
     "name": "stdout",
     "output_type": "stream",
     "text": [
      "Cost at theta found by optimize: 0.2034977015894421\n",
      "Expected cost (approx):          0.203\n",
      "theta:                           [-25.16133175   0.2062317    0.20147159]\n",
      "Expected theta (approx):         -25.161, 0.206, 0.201\n"
     ]
    }
   ],
   "source": [
    "# Print theta to screen\n",
    "print('Cost at theta found by optimize: %s' % result.fun)\n",
    "print('Expected cost (approx):          0.203')\n",
    "print('theta:                           %s' % result.x)\n",
    "print('Expected theta (approx):         -25.161, 0.206, 0.201')"
   ]
  },
  {
   "cell_type": "code",
   "execution_count": 19,
   "metadata": {
    "collapsed": true
   },
   "outputs": [],
   "source": [
    "theta = result.x"
   ]
  },
  {
   "cell_type": "markdown",
   "metadata": {
    "collapsed": true
   },
   "source": [
    "### 1.2.4. Evaluating Logistic Regression\n",
    "TODO: Graph decision boundary."
   ]
  },
  {
   "cell_type": "code",
   "execution_count": 20,
   "metadata": {
    "collapsed": true
   },
   "outputs": [],
   "source": [
    "def plotDecisionBoundary(theta, X, y):\n",
    "    # First plot the data, taking into account we added intercept term.\n",
    "    plotData(X[:,1:], y)\n",
    "\n",
    "    # Choose two endpoints for decision boundary.\n",
    "    plot_x = np.array((min(X[:,1]) - 2, max(X[:,1]) + 2))\n",
    "\n",
    "    # Calculate y values at that list of endpoints\n",
    "    plot_y = (-1 / theta[2]) * (theta[1]*plot_x + theta[0])\n",
    "\n",
    "    plt.plot(plot_x, plot_y)"
   ]
  },
  {
   "cell_type": "code",
   "execution_count": 21,
   "metadata": {},
   "outputs": [
    {
     "data": {
      "image/png": "[encoded data removed]",
      "text/plain": [
       "<matplotlib.figure.Figure at 0x1a7ea1848d0>"
      ]
     },
     "metadata": {},
     "output_type": "display_data"
    }
   ],
   "source": [
    "plotDecisionBoundary(theta, X, y)"
   ]
  },
  {
   "cell_type": "markdown",
   "metadata": {},
   "source": [
    "Try predicting one student."
   ]
  },
  {
   "cell_type": "code",
   "execution_count": 22,
   "metadata": {},
   "outputs": [
    {
     "data": {
      "text/plain": [
       "0.77629064887795896"
      ]
     },
     "execution_count": 22,
     "metadata": {},
     "output_type": "execute_result"
    }
   ],
   "source": [
    "theta = result.x\n",
    "#X_one = np.array(((1, 45, 85), ))\n",
    "X_one = np.array((1, 45, 85))\n",
    "h_one = sigmoid(X_one @ theta)\n",
    "h_one"
   ]
  },
  {
   "cell_type": "code",
   "execution_count": 23,
   "metadata": {},
   "outputs": [
    {
     "name": "stdout",
     "output_type": "stream",
     "text": [
      "For scores 45 and 85, we predict admission probability 0.776291\n",
      "Expected value: 0.775 +/- 0.002\n"
     ]
    }
   ],
   "source": [
    "# Hmmm.\n",
    "print('For scores 45 and 85, we predict admission probability %f' % h_one)\n",
    "print('Expected value: 0.775 +/- 0.002')"
   ]
  },
  {
   "cell_type": "markdown",
   "metadata": {},
   "source": [
    "Now check overall accuracy on the data we trained on."
   ]
  },
  {
   "cell_type": "code",
   "execution_count": 24,
   "metadata": {
    "collapsed": true
   },
   "outputs": [],
   "source": [
    "# Student implements...\n",
    "def predict(theta, X):\n",
    "    probabilities = sigmoid(X @ theta)\n",
    "    return (probabilities >= 0.5).astype(np.float)\n",
    "#predict(theta, X)"
   ]
  },
  {
   "cell_type": "code",
   "execution_count": 25,
   "metadata": {},
   "outputs": [
    {
     "name": "stdout",
     "output_type": "stream",
     "text": [
      "Train Accuracy: 89.000000%\n",
      "Expected accuracy (approx): 89.0\n"
     ]
    }
   ],
   "source": [
    "p = predict(theta, X)\n",
    "accuracy = (p == y).astype(np.float).mean()\n",
    "\n",
    "print('Train Accuracy: %f%%' % (accuracy * 100))\n",
    "print('Expected accuracy (approx): 89.0')"
   ]
  },
  {
   "cell_type": "markdown",
   "metadata": {
    "collapsed": true
   },
   "source": [
    "# 2. Regularized Logistic Regression"
   ]
  },
  {
   "cell_type": "code",
   "execution_count": 26,
   "metadata": {},
   "outputs": [
    {
     "name": "stdout",
     "output_type": "stream",
     "text": [
      "[[ 0.051267  0.69956   1.      ]\n",
      " [-0.092742  0.68494   1.      ]\n",
      " [-0.21371   0.69225   1.      ]\n",
      " [-0.375     0.50219   1.      ]\n",
      " [-0.51325   0.46564   1.      ]]\n",
      "[[ 0.051267  0.69956 ]\n",
      " [-0.092742  0.68494 ]\n",
      " [-0.21371   0.69225 ]\n",
      " [-0.375     0.50219 ]\n",
      " [-0.51325   0.46564 ]]\n",
      "[ 1.  1.  1.  1.  1.]\n"
     ]
    }
   ],
   "source": [
    "data = np.loadtxt('ex2/ex2data2.txt', delimiter=',')\n",
    "X = data[:, 0:-1]\n",
    "y = data[:, -1]\n",
    "print(data[:5])\n",
    "print(X[:5])\n",
    "print(y[:5])"
   ]
  },
  {
   "cell_type": "markdown",
   "metadata": {},
   "source": [
    "## 2.1. Visualizing the data"
   ]
  },
  {
   "cell_type": "code",
   "execution_count": 27,
   "metadata": {
    "collapsed": true
   },
   "outputs": [],
   "source": [
    "pos = np.where(y == 1)\n",
    "neg = np.where(y == 0)"
   ]
  },
  {
   "cell_type": "markdown",
   "metadata": {},
   "source": [
    "** PROBLEM? ** Why does this plot look different than Ex2.pdf handout?"
   ]
  },
  {
   "cell_type": "code",
   "execution_count": 28,
   "metadata": {},
   "outputs": [
    {
     "data": {
      "text/plain": [
       "<matplotlib.text.Text at 0x1a7eb84c5f8>"
      ]
     },
     "execution_count": 28,
     "metadata": {},
     "output_type": "execute_result"
    },
    {
     "data": {
      "image/png": "[encoded data removed]",
      "text/plain": [
       "<matplotlib.figure.Figure at 0x1a7eb89aa20>"
      ]
     },
     "metadata": {},
     "output_type": "display_data"
    }
   ],
   "source": [
    "l1 = plt.plot(X[pos, 0], X[pos, 1], 'k+', label='Passed')\n",
    "l2 = plt.plot(X[neg, 0], X[neg, 1], 'yo', label='Failed')\n",
    "plt.legend((l1[0], l2[0]), (l1[0].get_label(), l2[0].get_label()))\n",
    "plt.xlabel('Microchip Test 1')\n",
    "plt.ylabel('Microchip Test 2')"
   ]
  },
  {
   "cell_type": "markdown",
   "metadata": {},
   "source": [
    "## 2.2. Feature mapping\n",
    "\n",
    "In addition to adding the bias term of 1's, we map the 2 features into a bunch of features that include higher order polynomials of those two features.  This lets us fit more complex functions, although it is more prone to overfitting as well."
   ]
  },
  {
   "cell_type": "code",
   "execution_count": 29,
   "metadata": {
    "collapsed": true
   },
   "outputs": [],
   "source": [
    "###\n",
    "# Add leading 1's column for intercept/bias term, and add \n",
    "# polynomial terms, but only for two starting features x1 & x2.\n",
    "def mapFeature(x1, x2, degree=6, bias=True):\n",
    "\n",
    "    # Calculate total number of terms. (Is there a more general way?)\n",
    "    cols = degree * (degree + 3) // 2\n",
    "    if bias:\n",
    "        cols += 1\n",
    "\n",
    "    # Allocate uninitialized array\n",
    "    out = np.empty((len(x1), cols))\n",
    "    nextcol = 0\n",
    "    \n",
    "    # Add bias term if requested\n",
    "    if bias:\n",
    "        out[:, nextcol] = 1\n",
    "        nextcol += 1\n",
    "\n",
    "    for i in range(1, degree + 1):\n",
    "        for j in range(0, i + 1):\n",
    "            out[:, nextcol] = (x1 ** (i-j)) * (x2 ** j)\n",
    "            nextcol += 1\n",
    "\n",
    "    return out"
   ]
  },
  {
   "cell_type": "code",
   "execution_count": 30,
   "metadata": {},
   "outputs": [
    {
     "name": "stdout",
     "output_type": "stream",
     "text": [
      "(118, 2)\n",
      "[[ 0.051267  0.69956 ]\n",
      " [-0.092742  0.68494 ]]\n",
      "(118, 28)\n",
      "[[  1.00000000e+00   5.12670000e-02   6.99560000e-01   2.62830529e-03\n",
      "    3.58643425e-02   4.89384194e-01   1.34745327e-04   1.83865725e-03\n",
      "    2.50892595e-02   3.42353606e-01   6.90798869e-06   9.42624411e-05\n",
      "    1.28625106e-03   1.75514423e-02   2.39496889e-01   3.54151856e-07\n",
      "    4.83255257e-06   6.59422333e-05   8.99809795e-04   1.22782870e-02\n",
      "    1.67542444e-01   1.81563032e-08   2.47750473e-07   3.38066048e-06\n",
      "    4.61305487e-05   6.29470940e-04   8.58939846e-03   1.17205992e-01]\n",
      " [  1.00000000e+00  -9.27420000e-02   6.84940000e-01   8.60107856e-03\n",
      "   -6.35227055e-02   4.69142804e-01  -7.97681228e-04   5.89122275e-03\n",
      "   -4.35092419e-02   3.21334672e-01   7.39785525e-05  -5.46363780e-04\n",
      "    4.03513411e-03  -2.98012201e-02   2.20094970e-01  -6.86091891e-06\n",
      "    5.06708697e-05  -3.74226408e-04   2.76382476e-03  -2.04120477e-02\n",
      "    1.50751849e-01   6.36295342e-07  -4.69931780e-06   3.47065055e-05\n",
      "   -2.56322636e-04   1.89305413e-03  -1.39810280e-02   1.03255971e-01]]\n"
     ]
    }
   ],
   "source": [
    "print(X.shape)\n",
    "print(X[:2])\n",
    "X = mapFeature(X[:,0], X[:,1])\n",
    "print(X.shape)\n",
    "print(X[:2])"
   ]
  },
  {
   "cell_type": "markdown",
   "metadata": {},
   "source": [
    "# 2.3. Cost function and gradient"
   ]
  },
  {
   "cell_type": "markdown",
   "metadata": {},
   "source": [
    "Logistic regression with regularization, cost function.  Note that the summation over $j$ starts at $j_1$, excluding $j_0$ because we do not want to regularize the bias parameter $j_0$:\n",
    "$$J(\\theta) = -\\frac{1}{m} \\sum_{i=1}^m \\left[ \n",
    "y^{(i)} \\log(h_\\theta(x^{(i)}))\n",
    "+ (1-y^{(i)}) \\log(1 - h_\\theta(x^{(i)}))\n",
    "\\right] \n",
    "+ \\frac{\\lambda}{2m}\\sum_{j=1}^n\\theta_j^2$$\n",
    "\n",
    "And the gradient is:\n",
    "\n",
    "$$\\frac{\\partial}{\\partial\\theta_0} J(\\theta) = \\frac{1}{m}\n",
    "  \\sum_{i=1}^m \\left( h_\\theta(x^{(i)}) - y^{(i)} \\right) x_0^{(i)}$$\n",
    "\n",
    "$$\\frac{\\partial}{\\partial\\theta_j} J(\\theta) = \\frac{1}{m}  \n",
    "  \\sum_{i=1}^m \\left( h_\\theta(x^{(i)}) - y^{(i)} \\right) x_j^{(i)}\n",
    "  + \\frac{\\lambda}{m} \\theta_j$$\n",
    "\n",
    "...with $h_\\theta(x^{(i)})$ as the sigmoid function this time since we are doing *logistic* regression."
   ]
  },
  {
   "cell_type": "markdown",
   "metadata": {},
   "source": [
    "Try it with theta of all zeros and lambda of 1."
   ]
  },
  {
   "cell_type": "code",
   "execution_count": 31,
   "metadata": {
    "collapsed": true
   },
   "outputs": [],
   "source": [
    "# Initialize parameters and lambda, but\n",
    "# lambda is a keyword in python, so we call the variable lamb.\n",
    "initial_theta = np.zeros(X.shape[1])\n",
    "lamb = 1;"
   ]
  },
  {
   "cell_type": "code",
   "execution_count": 32,
   "metadata": {},
   "outputs": [],
   "source": [
    "# Student implements cost function with regularzation\n",
    "def costFunctionReg(theta, X, y, lamb):\n",
    "    m = len(y)\n",
    "    \n",
    "    # Calculate hypothesis\n",
    "    h = sigmoid(X @ theta)\n",
    "\n",
    "    # Done with original theta, now avoid regularizing bias term.\n",
    "    theta[0] = 0\n",
    "    \n",
    "    # Calculate cost function\n",
    "    sum_of_errs = y @ np.log(h) + (1-y) @ np.log(1-h)\n",
    "    sum_of_reg = theta @ theta\n",
    "    J = (-1/m) * sum_of_errs + (lamb/(2*m)) * sum_of_reg\n",
    "    \n",
    "    # Calculate gradient\n",
    "    sum_partial = (h - y) @ X\n",
    "    grad = (1/m) * sum_partial + (lamb/m) * theta\n",
    "    \n",
    "    return J, grad"
   ]
  },
  {
   "cell_type": "code",
   "execution_count": 33,
   "metadata": {},
   "outputs": [
    {
     "name": "stdout",
     "output_type": "stream",
     "text": [
      "{'edgeitems': 3, 'suppress': False, 'infstr': 'inf', 'nanstr': 'nan', 'formatter': None, 'precision': 8, 'threshold': 1000, 'linewidth': 75}\n"
     ]
    }
   ],
   "source": [
    "saved_printoptions = np.get_printoptions()\n",
    "print(saved_printoptions)\n",
    "np.set_printoptions(precision=5, suppress=True)"
   ]
  },
  {
   "cell_type": "code",
   "execution_count": 34,
   "metadata": {},
   "outputs": [
    {
     "name": "stdout",
     "output_type": "stream",
     "text": [
      "Cost at initial theta (zeros):  0.69314718056\n",
      "Expected cost (approx): 0.693\n",
      "Gradient at initial theta (zeros) - first five values only:\n",
      "[ 0.00847  0.01879  0.00008  0.05034  0.0115 ]\n",
      "Expected gradients (approx) - first five values only:\n",
      "0.0085, 0.0188, 0.0001, 0.0503, 0.0115\n"
     ]
    }
   ],
   "source": [
    "cost, grad = costFunctionReg(initial_theta, X, y, lamb)\n",
    "print('Cost at initial theta (zeros): ', cost)\n",
    "print('Expected cost (approx): 0.693')\n",
    "print('Gradient at initial theta (zeros) - first five values only:')\n",
    "print(grad[:5])\n",
    "print('Expected gradients (approx) - first five values only:')\n",
    "print('0.0085, 0.0188, 0.0001, 0.0503, 0.0115')"
   ]
  },
  {
   "cell_type": "markdown",
   "metadata": {},
   "source": [
    "Try it with theta of all ones and lambda of 10."
   ]
  },
  {
   "cell_type": "code",
   "execution_count": 35,
   "metadata": {
    "collapsed": true
   },
   "outputs": [],
   "source": [
    "test_theta = np.ones(X.shape[1])\n",
    "lamb = 10"
   ]
  },
  {
   "cell_type": "code",
   "execution_count": 36,
   "metadata": {},
   "outputs": [
    {
     "name": "stdout",
     "output_type": "stream",
     "text": [
      "Cost at test theta (with lambda = 10):  3.16450933162\n",
      "Expected cost (approx): 3.16\n",
      "Gradient at test theta - first five values only:\n",
      "[ 0.34605  0.16135  0.1948   0.22686  0.09219]\n",
      "Expected gradients (approx) - first five values only:\n",
      " 0.3460, 0.1614, 0.1948, 0.2269, 0.0922\n"
     ]
    }
   ],
   "source": [
    "cost, grad = costFunctionReg(test_theta, X, y, lamb)\n",
    "print('Cost at test theta (with lambda = 10): ', cost)\n",
    "print('Expected cost (approx): 3.16')\n",
    "print('Gradient at test theta - first five values only:')\n",
    "print(grad[:5])\n",
    "print('Expected gradients (approx) - first five values only:')\n",
    "print(' 0.3460, 0.1614, 0.1948, 0.2269, 0.0922')"
   ]
  },
  {
   "cell_type": "code",
   "execution_count": 37,
   "metadata": {},
   "outputs": [
    {
     "name": "stdout",
     "output_type": "stream",
     "text": [
      "[ 0.34604507  0.16135192  0.19479576  0.22686278  0.09218568]\n"
     ]
    }
   ],
   "source": [
    "np.set_printoptions(**saved_printoptions)\n",
    "print(grad[:5])"
   ]
  },
  {
   "cell_type": "markdown",
   "metadata": {},
   "source": [
    "### 2.3.1. Learning parameters using `scipy.optimize.minimize`"
   ]
  },
  {
   "cell_type": "code",
   "execution_count": 38,
   "metadata": {
    "collapsed": true
   },
   "outputs": [],
   "source": [
    "initial_theta = np.zeros(X.shape[1])\n",
    "lamb = 1"
   ]
  },
  {
   "cell_type": "code",
   "execution_count": 39,
   "metadata": {},
   "outputs": [
    {
     "name": "stdout",
     "output_type": "stream",
     "text": [
      "Optimization terminated successfully.\n",
      "         Current function value: 0.529003\n",
      "         Iterations: 47\n",
      "         Function evaluations: 48\n",
      "         Gradient evaluations: 48\n",
      "Wall time: 6.02 ms\n"
     ]
    }
   ],
   "source": [
    "%%time\n",
    "# Note: Was using fminunc() in MatLab\n",
    "result = optimize.minimize(\n",
    "    lambda t: costFunctionReg(t, X, y, lamb),\n",
    "    initial_theta,\n",
    "    jac=True,\n",
    "    options={'maxiter': 400, 'disp': True}\n",
    "    )"
   ]
  },
  {
   "cell_type": "code",
   "execution_count": 40,
   "metadata": {},
   "outputs": [],
   "source": [
    "#saved_printoptions = np.get_printoptions()\n",
    "#np.set_printoptions(precision=2, suppress=True)\n",
    "#print(result)\n",
    "#np.set_printoptions(**saved_printoptions)"
   ]
  },
  {
   "cell_type": "code",
   "execution_count": 41,
   "metadata": {},
   "outputs": [
    {
     "data": {
      "text/plain": [
       "array([ 1.27268739,  0.62557016,  1.1809665 , -2.01919822, -0.91761468,\n",
       "       -1.43194199,  0.12375921, -0.36513086, -0.35703388, -0.17485805,\n",
       "       -1.45843772, -0.05129676, -0.61603963, -0.2746414 , -1.19282569,\n",
       "       -0.24270336, -0.20570022, -0.04499768, -0.27782709, -0.29525851,\n",
       "       -0.45613294, -1.04377851,  0.02762813, -0.29265642,  0.01543393,\n",
       "       -0.32759318, -0.14389199, -0.92460119])"
      ]
     },
     "execution_count": 41,
     "metadata": {},
     "output_type": "execute_result"
    }
   ],
   "source": [
    "theta = result.x\n",
    "theta"
   ]
  },
  {
   "cell_type": "code",
   "execution_count": 42,
   "metadata": {},
   "outputs": [
    {
     "name": "stdout",
     "output_type": "stream",
     "text": [
      "Train Accuracy: 83.050847%\n",
      "Expected accuracy (with lambda = 1): 83.1 (approx)\n"
     ]
    }
   ],
   "source": [
    "p = predict(theta, X)\n",
    "accuracy = (p == y).astype(np.float).mean()\n",
    "\n",
    "print('Train Accuracy: %f%%' % (accuracy * 100))\n",
    "print('Expected accuracy (with lambda = 1): 83.1 (approx)')"
   ]
  },
  {
   "cell_type": "code",
   "execution_count": null,
   "metadata": {
    "collapsed": true
   },
   "outputs": [],
   "source": []
  }
 ],
 "metadata": {
  "kernelspec": {
   "display_name": "Python 3",
   "language": "python",
   "name": "python3"
  },
  "language_info": {
   "codemirror_mode": {
    "name": "ipython",
    "version": 3
   },
   "file_extension": ".py",
   "mimetype": "text/x-python",
   "name": "python",
   "nbconvert_exporter": "python",
   "pygments_lexer": "ipython3",
   "version": "3.5.3"
  }
 },
 "nbformat": 4,
 "nbformat_minor": 2
}
